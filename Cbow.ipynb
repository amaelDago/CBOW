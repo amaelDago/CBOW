{
  "nbformat": 4,
  "nbformat_minor": 0,
  "metadata": {
    "colab": {
      "name": "Untitled0.ipynb",
      "provenance": [],
      "collapsed_sections": []
    },
    "kernelspec": {
      "name": "python3",
      "display_name": "Python 3"
    }
  },
  "cells": [
    {
      "cell_type": "markdown",
      "metadata": {
        "id": "h0NPQzgPZq-M",
        "colab_type": "text"
      },
      "source": [
        "Data preparation for CBOW"
      ]
    },
    {
      "cell_type": "code",
      "metadata": {
        "id": "3NlL7PCXHY9k",
        "colab_type": "code",
        "colab": {
          "base_uri": "https://localhost:8080/",
          "height": 72
        },
        "outputId": "164a9f77-cdf2-4f52-bf7f-c9b56e69f13a"
      },
      "source": [
        "# Import librairies\n",
        "\n",
        "import re\n",
        "import nltk\n",
        "import numpy as np\n",
        "from utils2 import *\n",
        "\n",
        "\n",
        "nltk.download(\"punkt\")"
      ],
      "execution_count": 2,
      "outputs": [
        {
          "output_type": "stream",
          "text": [
            "[nltk_data] Downloading package punkt to /root/nltk_data...\n",
            "[nltk_data]   Unzipping tokenizers/punkt.zip.\n"
          ],
          "name": "stdout"
        },
        {
          "output_type": "execute_result",
          "data": {
            "text/plain": [
              "True"
            ]
          },
          "metadata": {
            "tags": []
          },
          "execution_count": 2
        }
      ]
    },
    {
      "cell_type": "code",
      "metadata": {
        "id": "DATP9NEtaP40",
        "colab_type": "code",
        "colab": {}
      },
      "source": [
        "# Define tokenize function\n",
        "\n",
        "def tokenize(sentence) : \n",
        "  \"\"\"\n",
        "  Tokenize a sentence\n",
        "  Input : \n",
        "    sentence : string\n",
        "  Output : \n",
        "    sentence : list of tokenized sentence\n",
        "  \"\"\"\n",
        "  sentence =  nltk.word_tokenize(re.sub(r'[,!?.]', '.', sentence), language = \"french\")\n",
        "  sentence_tokenized = [token.lower() for token in sentence\n",
        "              if token.isalpha()\n",
        "              or token == \".\"]\n",
        "\n",
        "  return sentence_tokenized\n"
      ],
      "execution_count": 3,
      "outputs": []
    },
    {
      "cell_type": "code",
      "metadata": {
        "id": "mEdsZg2pIVLr",
        "colab_type": "code",
        "colab": {}
      },
      "source": [
        "def get_windows(words, C) :\n",
        "  \"\"\"\n",
        "  For a word in words, give context word if possible\n",
        "  Input : \n",
        "    words : tokenized sentence\n",
        "    C : number of context word at left and at right\n",
        "  Output : \n",
        "    center a word and his context words\n",
        "  \n",
        "  \"\"\"\n",
        "  i = C\n",
        "\n",
        "  while i < len(words) - C : \n",
        "    center_word = words[i]\n",
        "    context_word = words[(i-C) : i] + words[(i + 1) : (i + C + 1) ]\n",
        "\n",
        "    yield center_word, context_word \n",
        "    i += 1\n"
      ],
      "execution_count": 4,
      "outputs": []
    },
    {
      "cell_type": "code",
      "metadata": {
        "id": "g5FLJbqBH4l8",
        "colab_type": "code",
        "colab": {
          "base_uri": "https://localhost:8080/",
          "height": 35
        },
        "outputId": "7b9fc85c-e219-4b7e-d975-86f8d5491df0"
      },
      "source": [
        "#Create function witch upload  a dataset and give word and in context for a given word.\n",
        "\n",
        "def upload_data(filename) : \n",
        "\n",
        "  \"\"\"\n",
        "  1 Import file\n",
        "  2 Read by line\n",
        "  3 tokenization\n",
        "  4 Storage in a list\n",
        "  \"\"\"\n",
        "  tokenize_l = []\n",
        "  # Import file\n",
        "  file = open(filename, 'r').read()\n",
        "  # Split by \"\\n\"\n",
        "  file = file.split(\"\\n\")\n",
        "\n",
        "  # Loop for tokenizing sentence\n",
        "  for line in file : \n",
        "    tokenized_line = tokenize(line)\n",
        "    if tokenized_line : \n",
        "      tokenize_l.extend(tokenize(line))\n",
        "  return tokenize_l\n",
        "\n",
        "# Upload text\n",
        "f = upload_data(\"test.txt\")\n",
        "\n",
        "print(f[:10])\n"
      ],
      "execution_count": 61,
      "outputs": [
        {
          "output_type": "stream",
          "text": [
            "['numberly', 'aide', 'ses', 'clients', 'à', 'collecter', '.', 'analyser', 'et', 'mettre']\n"
          ],
          "name": "stdout"
        }
      ]
    },
    {
      "cell_type": "code",
      "metadata": {
        "id": "DfUbD_05idIN",
        "colab_type": "code",
        "colab": {
          "base_uri": "https://localhost:8080/",
          "height": 35
        },
        "outputId": "f28d6c2d-cc0b-4844-c807-ea0d4784ffc4"
      },
      "source": [
        "# Create a vocabulary\n",
        "# Create a dictionary where keys are word and value its index\n",
        "# Create a dictionary where keys are index and value its word\n",
        "\n",
        "def get_dict(corpus) : \n",
        "  \"\"\"\n",
        "  1 create a temporary liste of unique words in a corpus\n",
        "  2 give a number to each word\n",
        "  3 create the 2 dictionary\n",
        "  Input : corpus like a list of tokenized sentence\n",
        "  Output : \n",
        "    word2ind : dictionary which have word in key and indice of word in value \n",
        "    ind2word : dictionary which have indice in key and word in value\n",
        "    vocabulary : a list of unique words\n",
        "  \"\"\"\n",
        "\n",
        "  vocab = sorted(set(corpus))\n",
        "  # word2ind\n",
        "  word2ind = {word : i for i, word in enumerate(vocab)}\n",
        "  # ind2word\n",
        "  ind2word = {i : word for i, word in enumerate(vocab)}\n",
        "\n",
        "  return word2ind, ind2word\n",
        "\n",
        "word2ind, ind2word = get_dict(f)\n",
        "print(len(word2ind), len(ind2word))"
      ],
      "execution_count": 62,
      "outputs": [
        {
          "output_type": "stream",
          "text": [
            "642 642\n"
          ],
          "name": "stdout"
        }
      ]
    },
    {
      "cell_type": "code",
      "metadata": {
        "id": "BFQAt708ocB1",
        "colab_type": "code",
        "colab": {}
      },
      "source": [
        "#Get one-hot vector from words\n",
        "\n",
        "def get_one_hot_vector(word, word2ind, size) : \n",
        "  \"\"\"\n",
        "  Input : \n",
        "    context_words : list of context words\n",
        "    word2ind : dictionary which have word in key and indice of word in value\n",
        "    size = dimension of word embedding\n",
        "  Output : \n",
        "    one hot vector \n",
        "  \"\"\"\n",
        "  # Initialize matrix\n",
        "  vec = np.zeros(size)\n",
        "  \n",
        "  if word in word2ind.keys() : \n",
        "    vec[word2ind[word]] = 1\n",
        "   \n",
        "  return(vec)"
      ],
      "execution_count": 8,
      "outputs": []
    },
    {
      "cell_type": "code",
      "metadata": {
        "id": "TnKKNoknrko6",
        "colab_type": "code",
        "colab": {}
      },
      "source": [
        "# Get context vectors\n",
        "def get_context_vectors(context_words, word2ind, size) : \n",
        "  \"\"\"\n",
        "  Input : \n",
        "    context_words : list of context words\n",
        "    word2ind : dictionary which have word in key and indice of word in value\n",
        "    size = dimension of word embedding\n",
        "  Output : \n",
        "    context vector \n",
        "  \"\"\"\n",
        "  return np.mean([get_one_hot_vector(word, word2ind, size) for word in context_words], axis = 0)\n"
      ],
      "execution_count": 9,
      "outputs": []
    },
    {
      "cell_type": "code",
      "metadata": {
        "id": "JohefQlZtK_S",
        "colab_type": "code",
        "colab": {}
      },
      "source": [
        "def get_training_example(words, word2ind,  size, C = 2) :\n",
        "  \"\"\"\n",
        "  For words give for each center word, its one hot and its context vectors\n",
        "  \"\"\"\n",
        "\n",
        "  for center_word, context_words in get_windows(words, C) : \n",
        "    \n",
        "    yield get_one_hot_vector(center_word, word2ind, size), get_context_vectors(context_words, word2ind, size)\n",
        "  "
      ],
      "execution_count": 10,
      "outputs": []
    },
    {
      "cell_type": "code",
      "metadata": {
        "id": "N4hxFWMXo4Ui",
        "colab_type": "code",
        "colab": {}
      },
      "source": [
        "# We have our 2 sets for computing CBOW. "
      ],
      "execution_count": null,
      "outputs": []
    },
    {
      "cell_type": "markdown",
      "metadata": {
        "id": "5PaRFSjs3ZyA",
        "colab_type": "text"
      },
      "source": [
        "Continuous Bag of Word Model"
      ]
    },
    {
      "cell_type": "code",
      "metadata": {
        "id": "UjsoLZ38bG3h",
        "colab_type": "code",
        "colab": {
          "base_uri": "https://localhost:8080/",
          "height": 35
        },
        "outputId": "2783db2f-2b25-4b4e-b8ca-76e373482264"
      },
      "source": [
        "# Definition of functions used for modelisation\n",
        "\n",
        "def relu(z) : \n",
        "  if type(z) != np.ndarray :\n",
        "    z = np.array(z)\n",
        "  z[z<0] = 0\n",
        "  return z\n",
        "\n",
        "def softmax(z) : \n",
        "  if type(z) != np.ndarray :\n",
        "   z = np.array(z)\n",
        "  exp_z = np.exp(z)\n",
        "  sum_exp_z = np.sum(exp_z)\n",
        "  return exp_z/sum_exp_z\n",
        "\n",
        "# Test softmax function\n",
        "softmax([-4, 1,4])"
      ],
      "execution_count": 12,
      "outputs": [
        {
          "output_type": "execute_result",
          "data": {
            "text/plain": [
              "array([3.19450938e-04, 4.74107229e-02, 9.52269826e-01])"
            ]
          },
          "metadata": {
            "tags": []
          },
          "execution_count": 12
        }
      ]
    },
    {
      "cell_type": "code",
      "metadata": {
        "id": "RSHDvY9fbjjK",
        "colab_type": "code",
        "colab": {}
      },
      "source": [
        "# Initialize model\n",
        "\n",
        "def initialize_model(N, V, random_seed = 0): \n",
        "  \"\"\" \n",
        "  Input : \n",
        "      N : size of hidden layer\n",
        "      V : length of vocabulary\n",
        "  Output : \n",
        "    W : dictionary of Weights W1 and W2\n",
        "    b : dictionary of biais b1 and b2\n",
        "  \"\"\"\n",
        "  # Set seed\n",
        "  np.random.seed(random_seed)\n",
        "\n",
        "  # Initialize W1\n",
        "  W1 = np.random.rand(N*V).reshape(N,V)\n",
        "  \n",
        "  # Initialize b1\n",
        "  b1 = np.random.rand(N).reshape(N,-1)\n",
        "  \n",
        "  # Initialize W2\n",
        "  W2 = np.random.rand(N*V).reshape(V,N)\n",
        "\n",
        "  # Initialize 2 \n",
        "  b2 = np.random.rand(V).reshape(V,-1)\n",
        "\n",
        "  return W1, W2, b1, b2\n"
      ],
      "execution_count": 71,
      "outputs": []
    },
    {
      "cell_type": "code",
      "metadata": {
        "id": "8HJ9QsQP1OEc",
        "colab_type": "code",
        "colab": {}
      },
      "source": [
        "\n",
        "def forward_prop(x, W1, W2, b1, b2):\n",
        "    '''\n",
        "    Inputs: \n",
        "        x:  average one hot vector for the context \n",
        "        W1, W2, b1, b2:  matrices and biases to be learned\n",
        "     Outputs: \n",
        "        z:  output score vector\n",
        "    '''\n",
        "    \n",
        "    ### START CODE HERE (Replace instances of 'None' with your own code) ###\n",
        "    \n",
        "    # Calculate h\n",
        "    h = np.dot(W1, x) + b1\n",
        "    \n",
        "    # Apply the relu on h (store result in h)\n",
        "    h = relu(h)\n",
        "    \n",
        "    # Calculate z\n",
        "    z = np.dot(W2, h) + b2\n",
        "    \n",
        "    ### END CODE HERE ###\n",
        "\n",
        "    return z, h"
      ],
      "execution_count": 16,
      "outputs": []
    },
    {
      "cell_type": "code",
      "metadata": {
        "id": "BGTZ-d2G3CYY",
        "colab_type": "code",
        "colab": {}
      },
      "source": [
        "# Back propagation\n",
        "\n",
        "def back_prop(x, y_hat, y, h, W1, W2, b1, b2, batch_size) :\n",
        "\n",
        "  '''\n",
        "  Inputs: \n",
        "      x:  average one hot vector for the context \n",
        "      yhat: prediction (estimate of y)\n",
        "      y:  target vector\n",
        "      h:  hidden vector (see eq. 1)\n",
        "      W1, W2, b1, b2:  matrices and biases  \n",
        "      batch_size: batch size \n",
        "    Outputs: \n",
        "      grad_W1, grad_W2, grad_b1, grad_b2:  gradients of matrices and biases   \n",
        "  '''\n",
        "\n",
        "  l1 = relu(np.dot(W2.T, (y_hat - y)))\n",
        "\n",
        "  # Compute the gradient of W1\n",
        "  grad_W1 = np.dot(l1, x.T)\n",
        "\n",
        "  # Compute the gradient of W2\n",
        "  grad_W2 = np.dot((y_hat - y), h.T)\n",
        "\n",
        "  # Compute the gradient of b1\n",
        "  grad_b1 = np.sum(l1, axis = 1, keepdims=True)/batch_size\n",
        "  \n",
        "  # Compute the gradient of b2\n",
        "  grad_b2 = np.sum((y_hat - y), axis = 1, keepdims = True)/batch_size\n",
        "\n",
        "  return W1, W2, b1, b2"
      ],
      "execution_count": 17,
      "outputs": []
    },
    {
      "cell_type": "code",
      "metadata": {
        "id": "_HSuFUWMFfow",
        "colab_type": "code",
        "colab": {
          "base_uri": "https://localhost:8080/",
          "height": 35
        },
        "outputId": "9634dd42-02b9-4d31-af02-28d7d07c76b3"
      },
      "source": [
        "# compute_cost: cross-entropy cost functioN\n",
        "def compute_cost(y, yhat, batch_size):\n",
        "    # cost function \n",
        "    logprobs = np.multiply(np.log(yhat),y) + np.multiply(np.log(1 - yhat), 1 - y)\n",
        "    cost = - 1/batch_size * np.sum(logprobs)\n",
        "    cost = np.squeeze(cost)\n",
        "    return cost\n",
        "  \n",
        "# Cross entropy\n",
        "def cross_entropy_loss(y_hat, y):\n",
        "\n",
        "  loss = np.sum(-np.log(y_hat)*y)/len(y)\n",
        "\n",
        "  return loss\n",
        "cross_entropy_loss(y_hat, y)"
      ],
      "execution_count": 72,
      "outputs": [
        {
          "output_type": "execute_result",
          "data": {
            "text/plain": [
              "0.5122282727130949"
            ]
          },
          "metadata": {
            "tags": []
          },
          "execution_count": 72
        }
      ]
    },
    {
      "cell_type": "code",
      "metadata": {
        "id": "KT0jM49kKMD3",
        "colab_type": "code",
        "colab": {}
      },
      "source": [
        "\n",
        "def gradient_descent(data, word2Ind, N, V, num_iters, alpha=0.03):\n",
        "    \n",
        "  '''\n",
        "  This is the gradient_descent function\n",
        "  \n",
        "    Inputs: \n",
        "      data:      text\n",
        "      word2Ind:  words to Indices\n",
        "      N:         dimension of hidden vector  \n",
        "      V:         dimension of vocabulary \n",
        "      num_iters: number of iterations  \n",
        "    Outputs: \n",
        "      W1, W2, b1, b2:  updated matrices and biases   \n",
        "\n",
        "  '''\n",
        "  W1, W2, b1, b2 = initialize_model(N,V, random_seed=282)\n",
        "  batch_size = 128\n",
        "  iters = 0\n",
        "  C = 2\n",
        "  for x, y in get_batches(data, word2Ind, V, C, batch_size):\n",
        "\n",
        "      # Get z and h\n",
        "      z, h = forward_prop(x, W1, W2, b1, b2)\n",
        "\n",
        "      # Get yhat\n",
        "      yhat = softmax(z)\n",
        "\n",
        "      # Get cost\n",
        "      cost = compute_cost(y, yhat, batch_size)\n",
        "      if ( (iters+1) % 10 == 0):\n",
        "          print(f\"iters: {iters + 1} cost: {cost:.6f}\")\n",
        "          \n",
        "      # Get gradients\n",
        "      grad_W1, grad_W2, grad_b1, grad_b2 = back_prop(x, yhat, y, h, W1, W2, b1, b2, batch_size)\n",
        "      \n",
        "      # Update weights and biases\n",
        "      W1 = W1 - alpha * grad_W1 \n",
        "      W2 = W2 - alpha * grad_W2\n",
        "      b1 = b1 - alpha * grad_b1\n",
        "      b2 = b2 - alpha * grad_b2\n",
        "      \n",
        "      ### END CODE HERE ###\n",
        "      \n",
        "      iters += 1 \n",
        "      if iters == num_iters: \n",
        "          break\n",
        "      if iters % 100 == 0:\n",
        "          alpha *= 0.66\n",
        "          \n",
        "  return W1, W2, b1, b2"
      ],
      "execution_count": 22,
      "outputs": []
    },
    {
      "cell_type": "code",
      "metadata": {
        "id": "MzZbWPZcDoEd",
        "colab_type": "code",
        "colab": {
          "base_uri": "https://localhost:8080/",
          "height": 329
        },
        "outputId": "8ca7fbb9-dda0-4603-bbf7-7905bb2dcd40"
      },
      "source": [
        "# test your function\n",
        "C = 2\n",
        "N = 50\n",
        "word2Ind, Ind2word = get_dict(f)\n",
        "V = len(word2Ind)\n",
        "print(V)\n",
        "num_iters = 150\n",
        "print(\"Call gradient_descent\")\n",
        "W1, W2, b1, b2 = gradient_descent(f, word2Ind, N, V, num_iters)"
      ],
      "execution_count": 67,
      "outputs": [
        {
          "output_type": "stream",
          "text": [
            "642\n",
            "Call gradient_descent\n",
            "iters: 10 cost: 11.485822\n",
            "iters: 20 cost: 11.279810\n",
            "iters: 30 cost: 11.279304\n",
            "iters: 40 cost: 11.308265\n",
            "iters: 50 cost: 11.329036\n",
            "iters: 60 cost: 11.338994\n",
            "iters: 70 cost: 11.341899\n",
            "iters: 80 cost: 11.341168\n",
            "iters: 90 cost: 11.338929\n",
            "iters: 100 cost: 11.336311\n",
            "iters: 110 cost: 11.334573\n",
            "iters: 120 cost: 11.333063\n",
            "iters: 130 cost: 11.331718\n",
            "iters: 140 cost: 11.330544\n",
            "iters: 150 cost: 11.329533\n"
          ],
          "name": "stdout"
        }
      ]
    },
    {
      "cell_type": "code",
      "metadata": {
        "id": "Fz09MjGI6jpi",
        "colab_type": "code",
        "colab": {
          "base_uri": "https://localhost:8080/",
          "height": 293
        },
        "outputId": "16d82c02-0f2f-4a70-80ea-08b18d6da85c"
      },
      "source": [
        "# We can get word embedding from columns of matrix of weights W1. For example the embedding of word to the first indices is : \n",
        "indice = 1\n",
        "print(ind2word[indice])\n",
        "print()\n",
        "print(\"The embedding of word {} are {}\".format(ind2word[indice], W1[:,indice]))\n"
      ],
      "execution_count": 64,
      "outputs": [
        {
          "output_type": "stream",
          "text": [
            "acceptez\n",
            "\n",
            "The embedding of word acceptez are [6.85309413e-03 4.65330243e-03 1.63023251e-02 1.58029527e-02\n",
            " 1.67314198e-02 1.07483169e-03 1.20410305e-02 8.04831063e-03\n",
            " 5.80444443e-03 9.67911222e-03 5.84495617e-03 5.66849971e-03\n",
            " 1.08434593e-04 3.73289452e-03 1.71801527e-02 6.34377197e-03\n",
            " 7.01554319e-03 5.41482484e-03 6.72697130e-03 1.52933243e-02\n",
            " 2.92263535e-05 7.36884986e-03 2.70631899e-03 1.28997728e-02\n",
            " 8.48618531e-03 1.02672019e-02 3.99995310e-03 1.30955728e-02\n",
            " 1.66801730e-03 5.18420649e-03 7.43941159e-03 1.67910675e-02\n",
            " 5.31569609e-03 1.08203418e-02 3.75455248e-03 9.97789582e-03\n",
            " 1.37296948e-03 1.30139092e-02 1.52450247e-02 1.20977102e-02\n",
            " 1.05900308e-02 1.62972130e-02 1.64352611e-03 4.00535765e-03\n",
            " 2.86697444e-03 2.06723759e-03 1.29749405e-03 1.55095156e-02\n",
            " 1.65617317e-02 6.88603653e-03]\n"
          ],
          "name": "stdout"
        }
      ]
    },
    {
      "cell_type": "code",
      "metadata": {
        "id": "6Sx9joVy1lO5",
        "colab_type": "code",
        "colab": {}
      },
      "source": [
        "def compute_pca(data, n_components=2):\n",
        "    \"\"\"\n",
        "    Input: \n",
        "        data: of dimension (m,n) where each row corresponds to a word vector\n",
        "        n_components: Number of components you want to keep.\n",
        "    Output: \n",
        "        X_reduced: data transformed in 2 dims/columns + regenerated original data\n",
        "    pass in: data as 2D NumPy array\n",
        "    \"\"\"\n",
        "\n",
        "    m, n = data.shape\n",
        "\n",
        "    # mean center the data\n",
        "    data -= data.mean(axis=0)\n",
        "\n",
        "    # calculate the covariance matrix\n",
        "    R = np.cov(data, rowvar=False)\n",
        "\n",
        "    # calculate eigenvectors & eigenvalues of the covariance matrix\n",
        "    evals, evecs = linalg.eigh(R)\n",
        "\n",
        "    # sort eigenvalue in decreasing order\n",
        "    # this returns the corresponding indices of evals and evecs\n",
        "    idx = np.argsort(evals)[::-1]\n",
        "    evecs = evecs[:, idx]\n",
        "    \n",
        "    # sort eigenvectors according to same index\n",
        "    evals = evals[idx]\n",
        "\n",
        "    # select the first n eigenvectors \n",
        "    evecs = evecs[:, :n_components]\n",
        "\n",
        "    return np.dot(evecs.T, data.T).T"
      ],
      "execution_count": 30,
      "outputs": []
    },
    {
      "cell_type": "code",
      "metadata": {
        "id": "SP8feXFp4jx1",
        "colab_type": "code",
        "colab": {
          "base_uri": "https://localhost:8080/",
          "height": 265
        },
        "outputId": "eb850c3c-496e-4198-bde3-4feb44349d4b"
      },
      "source": [
        "import matplotlib.pyplot as plt\n",
        "\n",
        "names = tokenize(\"data scientists temps réel marketing visualisation stage ou alternance Vous avez niveau expérience deep learning machine\")\n",
        "indices = [word2ind[word] for word in names]\n",
        "\n",
        "X = W1[:,indices]\n",
        "\n",
        "result= compute_pca(X.T, 2)\n",
        "plt.scatter(result[:, 0], result[:, 1])\n",
        "for i, word in enumerate(names):\n",
        "    plt.annotate(word, xy=(result[i, 0], result[i, 1]))\n",
        "plt.show()"
      ],
      "execution_count": 69,
      "outputs": [
        {
          "output_type": "display_data",
          "data": {
            "image/png": "[encoded data removed]",
            "text/plain": [
              "<Figure size 432x288 with 1 Axes>"
            ]
          },
          "metadata": {
            "tags": [],
            "needs_background": "light"
          }
        }
      ]
    }
  ]
}